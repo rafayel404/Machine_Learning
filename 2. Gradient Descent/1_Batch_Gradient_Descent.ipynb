{
  "nbformat": 4,
  "nbformat_minor": 0,
  "metadata": {
    "colab": {
      "provenance": []
    },
    "kernelspec": {
      "name": "python3",
      "display_name": "Python 3"
    },
    "language_info": {
      "name": "python"
    }
  },
  "cells": [
    {
      "cell_type": "code",
      "execution_count": 1,
      "metadata": {
        "id": "5Wqx6Dt_t-lf"
      },
      "outputs": [],
      "source": [
        "from sklearn.datasets import load_diabetes\n",
        "import numpy as np\n",
        "from sklearn.linear_model import LinearRegression\n",
        "from sklearn.metrics import r2_score\n",
        "from sklearn.model_selection import train_test_split"
      ]
    },
    {
      "cell_type": "code",
      "source": [
        "X,y=load_diabetes(return_X_y=True)"
      ],
      "metadata": {
        "id": "Bm3M3d6PxNJX"
      },
      "execution_count": 2,
      "outputs": []
    },
    {
      "cell_type": "code",
      "source": [
        "X.shape"
      ],
      "metadata": {
        "colab": {
          "base_uri": "https://localhost:8080/"
        },
        "id": "xPdSta79xShE",
        "outputId": "d13491fd-e456-4cd1-972c-d1fc7d28036f"
      },
      "execution_count": 3,
      "outputs": [
        {
          "output_type": "execute_result",
          "data": {
            "text/plain": [
              "(442, 10)"
            ]
          },
          "metadata": {},
          "execution_count": 3
        }
      ]
    },
    {
      "cell_type": "code",
      "source": [
        "y.shape"
      ],
      "metadata": {
        "colab": {
          "base_uri": "https://localhost:8080/"
        },
        "id": "Fw6QEnqPxZeV",
        "outputId": "19392839-b2b9-467c-be1f-52999fdd427f"
      },
      "execution_count": 4,
      "outputs": [
        {
          "output_type": "execute_result",
          "data": {
            "text/plain": [
              "(442,)"
            ]
          },
          "metadata": {},
          "execution_count": 4
        }
      ]
    },
    {
      "cell_type": "code",
      "source": [
        "X_train,X_test,y_train,y_test = train_test_split(X,y,test_size=0.2,random_state=2)"
      ],
      "metadata": {
        "id": "IGAjI-fXxaON"
      },
      "execution_count": 5,
      "outputs": []
    },
    {
      "cell_type": "markdown",
      "source": [
        "# Batch Gradient Descent from scratch.\n",
        "### Batch gradient descent is not used when data is large.It takes one update at each epoch."
      ],
      "metadata": {
        "id": "vkxA4_7rDOiC"
      }
    },
    {
      "cell_type": "code",
      "source": [
        "class my_Batch_Gradient_Descent:\n",
        "\n",
        "  def __init__(self,learning_rate=.01,epochs=100):\n",
        "    self.learning_rate=learning_rate\n",
        "    self.epochs=epochs\n",
        "    self.intercept_=None\n",
        "    self.coef_=None\n",
        "\n",
        "  def fit(self,X_train,y_train):\n",
        "\n",
        "    self.coef_=np.ones(X_train.shape[1])                                     # Taking all the betas as 1\n",
        "    self.intercept_=0                                                        # Taking beta0 as 0\n",
        "\n",
        "    for i in range(self.epochs):\n",
        "\n",
        "      y_hat= np.dot(X_train,self.coef_) + self.intercept_                       # Vectorized operation to find y_hat using our initial guess.\n",
        "\n",
        "      intercept_derivative=-2 * np.mean(y_train - y_hat)\n",
        "      self.intercept_=self.intercept_ - (self.learning_rate * intercept_derivative)\n",
        "\n",
        "      coef_derivative=-2 * np.dot((y_train-y_hat),X_train)/X_train.shape[0]    # np.dot(X_train.T,(y_train-y_hat)) If i keep X_train first\n",
        "      self.coef_ = self.coef_ - (self.learning_rate * coef_derivative)\n",
        "\n",
        "    print(self.intercept_,self.coef_)\n",
        "\n",
        "  def predict(self,X_test):\n",
        "        return np.dot(X_test,self.coef_) + self.intercept_\n"
      ],
      "metadata": {
        "id": "g713I__GxkD1"
      },
      "execution_count": 34,
      "outputs": []
    },
    {
      "cell_type": "code",
      "source": [
        "reg=my_Batch_Gradient_Descent(learning_rate=.5,epochs=1000)"
      ],
      "metadata": {
        "id": "r0I0rL5x4zMu"
      },
      "execution_count": 35,
      "outputs": []
    },
    {
      "cell_type": "code",
      "source": [
        "reg.fit(X_train,y_train)"
      ],
      "metadata": {
        "colab": {
          "base_uri": "https://localhost:8080/"
        },
        "id": "4qTXsbwt47Tt",
        "outputId": "beb34275-0245-4cc9-84a6-35ad3fb993ed"
      },
      "execution_count": 36,
      "outputs": [
        {
          "output_type": "stream",
          "name": "stdout",
          "text": [
            "152.01351687661833 [  14.38990585 -173.7235727   491.54898524  323.91524824  -39.32648042\n",
            " -116.01061213 -194.04077415  103.38135565  451.63448787   97.57218278]\n"
          ]
        }
      ]
    },
    {
      "cell_type": "code",
      "source": [
        "y_pred=reg.predict(X_test)\n",
        "y_pred"
      ],
      "metadata": {
        "id": "Sxg_55FD5JXF",
        "colab": {
          "base_uri": "https://localhost:8080/"
        },
        "outputId": "8c8d6b91-ca7f-49f7-d53c-e45a98325670"
      },
      "execution_count": 38,
      "outputs": [
        {
          "output_type": "execute_result",
          "data": {
            "text/plain": [
              "array([152.26392304, 198.96222354, 127.66111541, 104.59596478,\n",
              "       265.23062371, 252.09467525, 112.76592254, 115.72549839,\n",
              "        96.37765691, 187.64845451, 144.9482918 , 172.110596  ,\n",
              "       178.81497695, 136.51444368, 292.15564227,  87.25795061,\n",
              "       202.18473262, 149.11155912, 132.30895031, 128.70828962,\n",
              "       148.38757935, 171.81318343, 150.93593445, 174.47559507,\n",
              "       127.76388814, 221.82234243, 199.96855698, 101.54518353,\n",
              "        54.85644772, 237.61948938, 244.2801351 , 112.91877003,\n",
              "        68.12192242,  96.00468527, 204.32975531, 163.99882781,\n",
              "       160.95172334, 191.90398957, 113.33794145, 238.46002509,\n",
              "       141.40211434, 120.45598718, 188.12639096, 186.46474321,\n",
              "       174.98259299, 143.24561624, 168.80798895, 299.18508813,\n",
              "       105.40854525, 169.51466009, 254.37509674, 142.60026818,\n",
              "       151.7158263 , 122.70403085, 191.52875115,  94.27792144,\n",
              "       129.03875584,  75.96073902, 157.91752518, 156.36603694,\n",
              "       163.20324594, 160.93274887, 102.3002858 , 227.7604113 ,\n",
              "       146.38764326, 130.09088849, 161.03126295, 192.83334912,\n",
              "       122.94795619, 126.85846035, 217.79918548, 199.2052686 ,\n",
              "       123.42023802, 154.19075213, 146.2669768 , 112.40128412,\n",
              "        80.42448582,  77.96472134, 169.32977609,  81.10892485,\n",
              "        97.26108764,  97.98086796, 179.31830771, 275.58154656,\n",
              "       206.20895128, 146.76562108, 282.5643577 , 202.33755312,\n",
              "        98.43145491])"
            ]
          },
          "metadata": {},
          "execution_count": 38
        }
      ]
    },
    {
      "cell_type": "code",
      "source": [
        "r2_score(y_test,y_pred)"
      ],
      "metadata": {
        "colab": {
          "base_uri": "https://localhost:8080/"
        },
        "id": "bjgAj_po_xU0",
        "outputId": "09106f01-aa89-46e6-a35c-2db06c734c0c"
      },
      "execution_count": 39,
      "outputs": [
        {
          "output_type": "execute_result",
          "data": {
            "text/plain": [
              "0.4534503034722803"
            ]
          },
          "metadata": {},
          "execution_count": 39
        }
      ]
    },
    {
      "cell_type": "code",
      "source": [],
      "metadata": {
        "id": "lNgCPbTL_zUj"
      },
      "execution_count": 37,
      "outputs": []
    },
    {
      "cell_type": "code",
      "source": [],
      "metadata": {
        "id": "8q9Qpg4P_1dj"
      },
      "execution_count": null,
      "outputs": []
    }
  ]
}