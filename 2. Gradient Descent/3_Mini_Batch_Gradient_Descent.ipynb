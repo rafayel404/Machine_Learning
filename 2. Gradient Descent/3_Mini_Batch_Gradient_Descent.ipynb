{
  "nbformat": 4,
  "nbformat_minor": 0,
  "metadata": {
    "colab": {
      "provenance": []
    },
    "kernelspec": {
      "name": "python3",
      "display_name": "Python 3"
    },
    "language_info": {
      "name": "python"
    }
  },
  "cells": [
    {
      "cell_type": "code",
      "execution_count": 8,
      "metadata": {
        "id": "-aG-r0frOqpm"
      },
      "outputs": [],
      "source": [
        "from sklearn.datasets import load_diabetes\n",
        "import numpy as np\n",
        "from sklearn.linear_model import LinearRegression\n",
        "from sklearn.metrics import r2_score\n",
        "from sklearn.model_selection import train_test_split\n",
        "import random"
      ]
    },
    {
      "cell_type": "code",
      "source": [
        "X,y=load_diabetes(return_X_y=True)"
      ],
      "metadata": {
        "id": "7W7AFjX9O1RW"
      },
      "execution_count": 2,
      "outputs": []
    },
    {
      "cell_type": "code",
      "source": [
        "X_train,X_test,y_train,y_test = train_test_split(X,y,test_size=0.2,random_state=2)"
      ],
      "metadata": {
        "id": "ULM93rtuO9mc"
      },
      "execution_count": 3,
      "outputs": []
    },
    {
      "cell_type": "code",
      "source": [
        "class my_Mini_Batch_Gradient_Descent:\n",
        "\n",
        "  def __init__(self,batch_size,learning_rate=.01,epochs=100):\n",
        "    self.learning_rate=learning_rate\n",
        "    self.epochs=epochs\n",
        "    self.intercept_=None\n",
        "    self.coef_=None\n",
        "    self.batch_size = batch_size\n",
        "\n",
        "  def fit(self,X_train,y_train):\n",
        "\n",
        "    self.coef_=np.ones(X_train.shape[1])\n",
        "    self.intercept_=0\n",
        "\n",
        "    for i in range(self.epochs):\n",
        "\n",
        "      for j in range(int(X_train.shape[0]/self.batch_size)):\n",
        "\n",
        "        random_indexes_of_batch=random.sample(range(X_train.shape[0]),self.batch_size)\n",
        "\n",
        "        y_hat= np.dot(X_train[random_indexes_of_batch],self.coef_) + self.intercept_\n",
        "\n",
        "        intercept_derivative=-2 * np.mean(y_train[random_indexes_of_batch] - y_hat)\n",
        "        self.intercept_=self.intercept_ - (self.learning_rate * intercept_derivative)\n",
        "\n",
        "        coef_derivative=-2 * np.dot((y_train[random_indexes_of_batch]-y_hat),X_train[random_indexes_of_batch])\n",
        "        self.coef_ = self.coef_ - (self.learning_rate * coef_derivative)\n",
        "\n",
        "    print(self.intercept_,self.coef_)\n",
        "\n",
        "  def predict(self,X_test):\n",
        "        return np.dot(X_test,self.coef_) + self.intercept_"
      ],
      "metadata": {
        "id": "TYiCdGmHO-mj"
      },
      "execution_count": 22,
      "outputs": []
    },
    {
      "cell_type": "code",
      "source": [
        "reg=my_Mini_Batch_Gradient_Descent(batch_size=int(X_train.shape[0]/50),learning_rate=.01,epochs=100)"
      ],
      "metadata": {
        "id": "jDIUUdsWPHAc"
      },
      "execution_count": 23,
      "outputs": []
    },
    {
      "cell_type": "code",
      "source": [
        "reg.fit(X_train,y_train)"
      ],
      "metadata": {
        "colab": {
          "base_uri": "https://localhost:8080/"
        },
        "id": "dY3ck75nPG4s",
        "outputId": "4ab67d8b-0373-4516-882b-09a81bebb308"
      },
      "execution_count": 24,
      "outputs": [
        {
          "output_type": "stream",
          "name": "stdout",
          "text": [
            "152.9668245442428 [  30.97457889 -133.19481569  451.17280413  306.23535829  -23.73488227\n",
            "  -89.23067935 -186.33843715  116.59718041  401.74727994  120.51209102]\n"
          ]
        }
      ]
    },
    {
      "cell_type": "code",
      "source": [
        "y_pred=reg.predict(X_test)"
      ],
      "metadata": {
        "id": "6G4fxLx7PTYU"
      },
      "execution_count": 25,
      "outputs": []
    },
    {
      "cell_type": "code",
      "source": [
        "r2_score(y_test,y_pred)"
      ],
      "metadata": {
        "colab": {
          "base_uri": "https://localhost:8080/"
        },
        "id": "wv2O165ePGwM",
        "outputId": "c5b46c38-48db-4345-f46b-cb74958b51d0"
      },
      "execution_count": 26,
      "outputs": [
        {
          "output_type": "execute_result",
          "data": {
            "text/plain": [
              "0.452226996639999"
            ]
          },
          "metadata": {},
          "execution_count": 26
        }
      ]
    },
    {
      "cell_type": "markdown",
      "source": [
        "# Comparing with SGDRegressor of scikitlearn"
      ],
      "metadata": {
        "id": "b4SYJVpES-aN"
      }
    },
    {
      "cell_type": "code",
      "source": [
        "from sklearn.linear_model import SGDRegressor\n",
        "sgd = SGDRegressor(learning_rate='constant',eta0=0.1)"
      ],
      "metadata": {
        "id": "Sj8xTBPSRNml"
      },
      "execution_count": 27,
      "outputs": []
    },
    {
      "cell_type": "code",
      "source": [
        "batch_size=35\n",
        "\n",
        "for i in range(150):\n",
        "\n",
        "    idx = random.sample(range(X_train.shape[0]),batch_size)\n",
        "    sgd.partial_fit(X_train[idx],y_train[idx])"
      ],
      "metadata": {
        "id": "tE9eWLeRRSem"
      },
      "execution_count": 43,
      "outputs": []
    },
    {
      "cell_type": "code",
      "source": [
        "sgd.coef_"
      ],
      "metadata": {
        "colab": {
          "base_uri": "https://localhost:8080/"
        },
        "id": "MxCoUuXhRcTU",
        "outputId": "61fd0805-d5f8-498f-c9b3-50914378c073"
      },
      "execution_count": 44,
      "outputs": [
        {
          "output_type": "execute_result",
          "data": {
            "text/plain": [
              "array([   3.02338372, -181.39580953,  528.52933494,  323.40196024,\n",
              "        -54.95431693, -123.64704085, -189.68730233,   84.54459324,\n",
              "        498.30705584,   73.15157013])"
            ]
          },
          "metadata": {},
          "execution_count": 44
        }
      ]
    },
    {
      "cell_type": "code",
      "source": [
        "sgd.intercept_"
      ],
      "metadata": {
        "colab": {
          "base_uri": "https://localhost:8080/"
        },
        "id": "sU0Osji-RgSc",
        "outputId": "917b1572-56e5-4720-984b-a6de7b1a607a"
      },
      "execution_count": 45,
      "outputs": [
        {
          "output_type": "execute_result",
          "data": {
            "text/plain": [
              "array([159.57721012])"
            ]
          },
          "metadata": {},
          "execution_count": 45
        }
      ]
    },
    {
      "cell_type": "code",
      "source": [
        "y_pred = sgd.predict(X_test)"
      ],
      "metadata": {
        "id": "hb5qcUKTTfRs"
      },
      "execution_count": 46,
      "outputs": []
    },
    {
      "cell_type": "code",
      "source": [
        "r2_score(y_test,y_pred)"
      ],
      "metadata": {
        "colab": {
          "base_uri": "https://localhost:8080/"
        },
        "id": "ixLpIcvoTgZU",
        "outputId": "0cde744d-b904-4795-cddb-c9e17fa4d0a6"
      },
      "execution_count": 47,
      "outputs": [
        {
          "output_type": "execute_result",
          "data": {
            "text/plain": [
              "0.44017944041150314"
            ]
          },
          "metadata": {},
          "execution_count": 47
        }
      ]
    },
    {
      "cell_type": "code",
      "source": [],
      "metadata": {
        "id": "vAudVefoThZ0"
      },
      "execution_count": 47,
      "outputs": []
    }
  ]
}